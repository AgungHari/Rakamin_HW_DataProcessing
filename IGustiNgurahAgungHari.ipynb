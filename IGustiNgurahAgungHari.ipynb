{
 "cells": [
  {
   "cell_type": "code",
   "execution_count": 29,
   "id": "df8b93d1-d997-4e2d-8acb-74590ccd53ab",
   "metadata": {},
   "outputs": [],
   "source": [
    "import pandas as pd"
   ]
  },
  {
   "cell_type": "markdown",
   "id": "52e03249-ec8b-4190-8558-72bcb7e8c008",
   "metadata": {
    "tags": []
   },
   "source": [
    "# A. Introduction to Pandas DataFrame and Transformation (45pts)"
   ]
  },
  {
   "cell_type": "markdown",
   "id": "168543d6-877d-4bfb-9831-9bf1c6834fa7",
   "metadata": {
    "tags": []
   },
   "source": [
    "## Beginner"
   ]
  },
  {
   "attachments": {
    "homework_exercise_1_result.png": {
     "image/png": "[encoded data removed]"
    }
   },
   "cell_type": "markdown",
   "id": "306f4342-1d9d-44c8-92c6-908d60c2e305",
   "metadata": {
    "tags": []
   },
   "source": [
    "### 1. Membuat DataFrame Manual (5pts)\n",
    "\n",
    "Buatlah dataframe secara manual seperti gambar dibawah ini.\n",
    "\n",
    "**Expected Result:**\n",
    "\n",
    "![homework_exercise_1_result.png](attachment:homework_exercise_1_result.png)"
   ]
  },
  {
   "cell_type": "code",
   "execution_count": 30,
   "id": "8f9e7905-9173-44a9-b12d-46f2ec551a81",
   "metadata": {},
   "outputs": [
    {
     "data": {
      "text/html": [
       "<div>\n",
       "<style scoped>\n",
       "    .dataframe tbody tr th:only-of-type {\n",
       "        vertical-align: middle;\n",
       "    }\n",
       "\n",
       "    .dataframe tbody tr th {\n",
       "        vertical-align: top;\n",
       "    }\n",
       "\n",
       "    .dataframe thead th {\n",
       "        text-align: right;\n",
       "    }\n",
       "</style>\n",
       "<table border=\"1\" class=\"dataframe\">\n",
       "  <thead>\n",
       "    <tr style=\"text-align: right;\">\n",
       "      <th></th>\n",
       "      <th>name</th>\n",
       "      <th>age</th>\n",
       "      <th>phone_number</th>\n",
       "      <th>ielts_score</th>\n",
       "    </tr>\n",
       "  </thead>\n",
       "  <tbody>\n",
       "    <tr>\n",
       "      <th>0</th>\n",
       "      <td>fiqry</td>\n",
       "      <td>23</td>\n",
       "      <td>+62813123414</td>\n",
       "      <td>6.5</td>\n",
       "    </tr>\n",
       "    <tr>\n",
       "      <th>1</th>\n",
       "      <td>iqbal</td>\n",
       "      <td>21</td>\n",
       "      <td>+6287842464</td>\n",
       "      <td>NaN</td>\n",
       "    </tr>\n",
       "    <tr>\n",
       "      <th>2</th>\n",
       "      <td>monica</td>\n",
       "      <td>22</td>\n",
       "      <td>+62813125554</td>\n",
       "      <td>7.5</td>\n",
       "    </tr>\n",
       "    <tr>\n",
       "      <th>3</th>\n",
       "      <td>rama</td>\n",
       "      <td>24</td>\n",
       "      <td>+6287834464</td>\n",
       "      <td>6.5</td>\n",
       "    </tr>\n",
       "    <tr>\n",
       "      <th>4</th>\n",
       "      <td>johan</td>\n",
       "      <td>26</td>\n",
       "      <td>+62813113414</td>\n",
       "      <td>8.0</td>\n",
       "    </tr>\n",
       "  </tbody>\n",
       "</table>\n",
       "</div>"
      ],
      "text/plain": [
       "     name  age  phone_number  ielts_score\n",
       "0   fiqry   23  +62813123414          6.5\n",
       "1   iqbal   21   +6287842464          NaN\n",
       "2  monica   22  +62813125554          7.5\n",
       "3    rama   24   +6287834464          6.5\n",
       "4   johan   26  +62813113414          8.0"
      ]
     },
     "execution_count": 30,
     "metadata": {},
     "output_type": "execute_result"
    }
   ],
   "source": [
    "## Your code below here\n",
    "dataframe_manual = pd.DataFrame({'name' : ['fiqry', 'iqbal', 'monica','rama','johan'],\n",
    "                                 'age' : [23, 21, 22, 24, 26],\n",
    "                                 'phone_number' : ['+62813123414', '+6287842464', '+62813125554','+6287834464','+62813113414'],\n",
    "                                 'ielts_score' : [6.5, None, 7.5, 6.5, 8.0],})\n",
    "\n",
    "\n",
    "dataframe_manual"
   ]
  },
  {
   "cell_type": "markdown",
   "id": "2777472d-eea5-4b61-9814-48bce5efa7a9",
   "metadata": {
    "tags": []
   },
   "source": [
    "### 2. Analisa Sederhana DataFrame (10pts)\n",
    "\n",
    "Lakukan import `application_processed.csv` data kedalam notebook (5pts) dan carilah beberapa informasi pada dataset `application_processed` (5pts) dan jawablah beberapa pertanyaan sebagai berikut:\n",
    "\n",
    "a. Column apa saja yang memiliki nilai NaN / None?\n",
    "b. Berapa rata-rata pada column `amount_income_total`?\n",
    "c. Berapa median pada column `amount_income_total`?\n",
    "\n",
    "**Hint**:\n",
    "- Menggunakan operasi dasar DataFrame pada topik Introduction Pandas DataFrame and Transformation\n"
   ]
  },
  {
   "cell_type": "code",
   "execution_count": 31,
   "id": "9823d0cc-1551-45c1-bb97-db2e681b74dc",
   "metadata": {},
   "outputs": [
    {
     "name": "stdout",
     "output_type": "stream",
     "text": [
      "Kolom dan jumlah nilai NaN pada data application_processed.csv :\n",
      "occupation_type    40095\n",
      "dtype: int64\n"
     ]
    }
   ],
   "source": [
    "## Your code below here\n",
    "# Mencari nilai NaN/None pada setiap kolom pada data aplication_processed.csv\n",
    "dataframe_application_processed = pd.read_csv('Homework Data Processing/application_processed.csv')\n",
    "kolom_null = dataframe_application_processed.isnull().sum()\n",
    "result = kolom_null[kolom_null > 0]\n",
    "print('Kolom dan jumlah nilai NaN pada data application_processed.csv :')\n",
    "print(result)"
   ]
  },
  {
   "cell_type": "code",
   "execution_count": 32,
   "id": "5f7eeb3f",
   "metadata": {},
   "outputs": [
    {
     "name": "stdout",
     "output_type": "stream",
     "text": [
      "Rata-rata nilai pada kolom amount_income_total :\n",
      "188040.57643679646\n"
     ]
    }
   ],
   "source": [
    "kolom amount_income_total\n",
    "rata_rata_amount_income_total = dataframe_application_processed['amount_income_total'].mean()\n",
    "print('Rata-rata nilai pada kolom amount_income_total :')\n",
    "print(rata_rata_amount_income_total)# mencari rata rata pada "
   ]
  },
  {
   "cell_type": "code",
   "execution_count": 33,
   "id": "3786f7be",
   "metadata": {},
   "outputs": [
    {
     "name": "stdout",
     "output_type": "stream",
     "text": [
      "Median nilai pada kolom amount_income_total :\n",
      "162000.0\n"
     ]
    }
   ],
   "source": [
    "# berapa median dari kolom amount_income_total\n",
    "median_amount_income_total = dataframe_application_processed['amount_income_total'].median()\n",
    "print('Median nilai pada kolom amount_income_total :')\n",
    "print(median_amount_income_total)"
   ]
  },
  {
   "cell_type": "markdown",
   "id": "eaad73a5-af53-4a5c-a0c8-5c8866483d70",
   "metadata": {
    "tags": []
   },
   "source": [
    "## Intermediate"
   ]
  },
  {
   "attachments": {
    "homework_exercise_3_result.png": {
     "image/png": "[encoded data removed]"
    }
   },
   "cell_type": "markdown",
   "id": "72ac1872-a655-40f2-8153-784dfed25d56",
   "metadata": {},
   "source": [
    "### 3. Mengolah Dataset (30pts)\n",
    "\n",
    "Dengan menggunakan dataset `application_processed.csv` buatlah dataframe baru dengan ketentuan:\n",
    "1. Ambil semua users yang memiliki `email`. (ditandai dengan nilai pada column `flag_email` = 1) dan tidak memilik data `duplicates`. (5pts)\n",
    "2. Buatlah column baru bernama `has_car_and_property` dimana nilainya merupakan range dari `0-1`. `1` apabila `flag_own_car` bernilai `1` dan `flag_own_property` bernilai `1`. `0` apabila terdapat atau semua nilai pada column `flag_own_car` dan `flag_own_property` terdapat angka 0. (5pts)\n",
    "3. Ambil column yang diperlukan yaitu `id`, `gender`, `has_car_and_property`, `income_type`, `education_type`, `family_status`, `housing_type`, `occupation_type`, `amount_income_total`. (5pts)\n",
    "4. Lakukan filter dengan ketentuan sebagai berikut: (5pts)\n",
    "    - Memiliki `car` dan `property`\n",
    "    - Tidak ada nilai null pada column `occupation_type`\n",
    "    - Memiliki value pada column `occupation_type` dengan pola `staff`.\n",
    "5. Sudah dilakukan sorting berdasarkan `income_type` dari `A-Z` dan `amount_income_total` dari `besar ke kecil`. (5pts)\n",
    "6. Simpan kedalam bentuk `.csv` dengan nama `homework_3_result.csv`. (5pts)\n",
    "\n",
    "**Expected Result:**\n",
    "\n",
    "![homework_exercise_3_result.png](attachment:homework_exercise_3_result.png)"
   ]
  },
  {
   "cell_type": "code",
   "execution_count": 34,
   "id": "7ac1c77d-7c8d-4174-99b3-ec9dddde15eb",
   "metadata": {},
   "outputs": [
    {
     "data": {
      "text/html": [
       "<div>\n",
       "<style scoped>\n",
       "    .dataframe tbody tr th:only-of-type {\n",
       "        vertical-align: middle;\n",
       "    }\n",
       "\n",
       "    .dataframe tbody tr th {\n",
       "        vertical-align: top;\n",
       "    }\n",
       "\n",
       "    .dataframe thead th {\n",
       "        text-align: right;\n",
       "    }\n",
       "</style>\n",
       "<table border=\"1\" class=\"dataframe\">\n",
       "  <thead>\n",
       "    <tr style=\"text-align: right;\">\n",
       "      <th></th>\n",
       "      <th>id</th>\n",
       "      <th>gender</th>\n",
       "      <th>flag_own_car</th>\n",
       "      <th>flag_own_property</th>\n",
       "      <th>total_children</th>\n",
       "      <th>amount_income_total</th>\n",
       "      <th>income_type</th>\n",
       "      <th>education_type</th>\n",
       "      <th>family_status</th>\n",
       "      <th>housing_type</th>\n",
       "      <th>days_birth</th>\n",
       "      <th>days_employed</th>\n",
       "      <th>flag_mobile_phone</th>\n",
       "      <th>flag_work_phone</th>\n",
       "      <th>flag_phone</th>\n",
       "      <th>flag_email</th>\n",
       "      <th>occupation_type</th>\n",
       "      <th>total_family_members</th>\n",
       "    </tr>\n",
       "  </thead>\n",
       "  <tbody>\n",
       "    <tr>\n",
       "      <th>0</th>\n",
       "      <td>5548815</td>\n",
       "      <td>Female</td>\n",
       "      <td>1</td>\n",
       "      <td>1</td>\n",
       "      <td>1</td>\n",
       "      <td>225000.0</td>\n",
       "      <td>State servant</td>\n",
       "      <td>Secondary / secondary special</td>\n",
       "      <td>Married</td>\n",
       "      <td>House / apartment</td>\n",
       "      <td>-12944</td>\n",
       "      <td>-6127</td>\n",
       "      <td>1</td>\n",
       "      <td>0</td>\n",
       "      <td>0</td>\n",
       "      <td>0</td>\n",
       "      <td>Laborers</td>\n",
       "      <td>3.0</td>\n",
       "    </tr>\n",
       "    <tr>\n",
       "      <th>1</th>\n",
       "      <td>5692601</td>\n",
       "      <td>Female</td>\n",
       "      <td>1</td>\n",
       "      <td>1</td>\n",
       "      <td>0</td>\n",
       "      <td>180000.0</td>\n",
       "      <td>Working</td>\n",
       "      <td>Secondary / secondary special</td>\n",
       "      <td>Married</td>\n",
       "      <td>House / apartment</td>\n",
       "      <td>-12484</td>\n",
       "      <td>-1874</td>\n",
       "      <td>1</td>\n",
       "      <td>0</td>\n",
       "      <td>0</td>\n",
       "      <td>0</td>\n",
       "      <td>NaN</td>\n",
       "      <td>2.0</td>\n",
       "    </tr>\n",
       "    <tr>\n",
       "      <th>2</th>\n",
       "      <td>5625007</td>\n",
       "      <td>Female</td>\n",
       "      <td>1</td>\n",
       "      <td>0</td>\n",
       "      <td>0</td>\n",
       "      <td>157500.0</td>\n",
       "      <td>Pensioner</td>\n",
       "      <td>Secondary / secondary special</td>\n",
       "      <td>Widow</td>\n",
       "      <td>House / apartment</td>\n",
       "      <td>-21656</td>\n",
       "      <td>365243</td>\n",
       "      <td>1</td>\n",
       "      <td>0</td>\n",
       "      <td>0</td>\n",
       "      <td>0</td>\n",
       "      <td>NaN</td>\n",
       "      <td>1.0</td>\n",
       "    </tr>\n",
       "    <tr>\n",
       "      <th>3</th>\n",
       "      <td>6529653</td>\n",
       "      <td>Male</td>\n",
       "      <td>0</td>\n",
       "      <td>1</td>\n",
       "      <td>0</td>\n",
       "      <td>202500.0</td>\n",
       "      <td>Working</td>\n",
       "      <td>Secondary / secondary special</td>\n",
       "      <td>Married</td>\n",
       "      <td>House / apartment</td>\n",
       "      <td>-10050</td>\n",
       "      <td>-2117</td>\n",
       "      <td>1</td>\n",
       "      <td>0</td>\n",
       "      <td>0</td>\n",
       "      <td>0</td>\n",
       "      <td>Drivers</td>\n",
       "      <td>2.0</td>\n",
       "    </tr>\n",
       "    <tr>\n",
       "      <th>4</th>\n",
       "      <td>6209935</td>\n",
       "      <td>Male</td>\n",
       "      <td>0</td>\n",
       "      <td>1</td>\n",
       "      <td>1</td>\n",
       "      <td>157500.0</td>\n",
       "      <td>Commercial associate</td>\n",
       "      <td>Secondary / secondary special</td>\n",
       "      <td>Married</td>\n",
       "      <td>House / apartment</td>\n",
       "      <td>-10371</td>\n",
       "      <td>-1755</td>\n",
       "      <td>1</td>\n",
       "      <td>0</td>\n",
       "      <td>0</td>\n",
       "      <td>0</td>\n",
       "      <td>Drivers</td>\n",
       "      <td>3.0</td>\n",
       "    </tr>\n",
       "  </tbody>\n",
       "</table>\n",
       "</div>"
      ],
      "text/plain": [
       "        id  gender  flag_own_car  flag_own_property  total_children  \\\n",
       "0  5548815  Female             1                  1               1   \n",
       "1  5692601  Female             1                  1               0   \n",
       "2  5625007  Female             1                  0               0   \n",
       "3  6529653    Male             0                  1               0   \n",
       "4  6209935    Male             0                  1               1   \n",
       "\n",
       "   amount_income_total           income_type                 education_type  \\\n",
       "0             225000.0         State servant  Secondary / secondary special   \n",
       "1             180000.0               Working  Secondary / secondary special   \n",
       "2             157500.0             Pensioner  Secondary / secondary special   \n",
       "3             202500.0               Working  Secondary / secondary special   \n",
       "4             157500.0  Commercial associate  Secondary / secondary special   \n",
       "\n",
       "  family_status       housing_type  days_birth  days_employed  \\\n",
       "0       Married  House / apartment      -12944          -6127   \n",
       "1       Married  House / apartment      -12484          -1874   \n",
       "2         Widow  House / apartment      -21656         365243   \n",
       "3       Married  House / apartment      -10050          -2117   \n",
       "4       Married  House / apartment      -10371          -1755   \n",
       "\n",
       "   flag_mobile_phone  flag_work_phone  flag_phone  flag_email occupation_type  \\\n",
       "0                  1                0           0           0        Laborers   \n",
       "1                  1                0           0           0             NaN   \n",
       "2                  1                0           0           0             NaN   \n",
       "3                  1                0           0           0         Drivers   \n",
       "4                  1                0           0           0         Drivers   \n",
       "\n",
       "   total_family_members  \n",
       "0                   3.0  \n",
       "1                   2.0  \n",
       "2                   1.0  \n",
       "3                   2.0  \n",
       "4                   3.0  "
      ]
     },
     "execution_count": 34,
     "metadata": {},
     "output_type": "execute_result"
    }
   ],
   "source": [
    "dataframe_nomer_tiga = pd.read_csv(r'D:\\rakamin_python\\Data_Processing\\Homework Data Processing\\application_processed.csv')\n",
    "dataframe_nomer_tiga.head(5)"
   ]
  },
  {
   "cell_type": "code",
   "execution_count": 35,
   "id": "50ef9092",
   "metadata": {},
   "outputs": [
    {
     "data": {
      "text/plain": [
       "np.True_"
      ]
     },
     "execution_count": 35,
     "metadata": {},
     "output_type": "execute_result"
    }
   ],
   "source": [
    "dataframe_nomer_tiga.duplicated().any()"
   ]
  },
  {
   "cell_type": "code",
   "execution_count": 36,
   "id": "f7b0afa0",
   "metadata": {},
   "outputs": [
    {
     "data": {
      "text/html": [
       "<div>\n",
       "<style scoped>\n",
       "    .dataframe tbody tr th:only-of-type {\n",
       "        vertical-align: middle;\n",
       "    }\n",
       "\n",
       "    .dataframe tbody tr th {\n",
       "        vertical-align: top;\n",
       "    }\n",
       "\n",
       "    .dataframe thead th {\n",
       "        text-align: right;\n",
       "    }\n",
       "</style>\n",
       "<table border=\"1\" class=\"dataframe\">\n",
       "  <thead>\n",
       "    <tr style=\"text-align: right;\">\n",
       "      <th></th>\n",
       "      <th>id</th>\n",
       "      <th>gender</th>\n",
       "      <th>flag_own_car</th>\n",
       "      <th>flag_own_property</th>\n",
       "      <th>total_children</th>\n",
       "      <th>amount_income_total</th>\n",
       "      <th>income_type</th>\n",
       "      <th>education_type</th>\n",
       "      <th>family_status</th>\n",
       "      <th>housing_type</th>\n",
       "      <th>days_birth</th>\n",
       "      <th>days_employed</th>\n",
       "      <th>flag_mobile_phone</th>\n",
       "      <th>flag_work_phone</th>\n",
       "      <th>flag_phone</th>\n",
       "      <th>flag_email</th>\n",
       "      <th>occupation_type</th>\n",
       "      <th>total_family_members</th>\n",
       "    </tr>\n",
       "  </thead>\n",
       "  <tbody>\n",
       "    <tr>\n",
       "      <th>5</th>\n",
       "      <td>5541414</td>\n",
       "      <td>Female</td>\n",
       "      <td>0</td>\n",
       "      <td>1</td>\n",
       "      <td>0</td>\n",
       "      <td>211500.0</td>\n",
       "      <td>Working</td>\n",
       "      <td>Secondary / secondary special</td>\n",
       "      <td>Civil marriage</td>\n",
       "      <td>House / apartment</td>\n",
       "      <td>-18171</td>\n",
       "      <td>-1671</td>\n",
       "      <td>1</td>\n",
       "      <td>0</td>\n",
       "      <td>1</td>\n",
       "      <td>1</td>\n",
       "      <td>NaN</td>\n",
       "      <td>2.0</td>\n",
       "    </tr>\n",
       "    <tr>\n",
       "      <th>6</th>\n",
       "      <td>5471417</td>\n",
       "      <td>Female</td>\n",
       "      <td>0</td>\n",
       "      <td>0</td>\n",
       "      <td>0</td>\n",
       "      <td>112500.0</td>\n",
       "      <td>State servant</td>\n",
       "      <td>Secondary / secondary special</td>\n",
       "      <td>Married</td>\n",
       "      <td>House / apartment</td>\n",
       "      <td>-11142</td>\n",
       "      <td>-2607</td>\n",
       "      <td>1</td>\n",
       "      <td>0</td>\n",
       "      <td>0</td>\n",
       "      <td>0</td>\n",
       "      <td>Core staff</td>\n",
       "      <td>2.0</td>\n",
       "    </tr>\n",
       "    <tr>\n",
       "      <th>7</th>\n",
       "      <td>5928937</td>\n",
       "      <td>Female</td>\n",
       "      <td>0</td>\n",
       "      <td>1</td>\n",
       "      <td>0</td>\n",
       "      <td>126000.0</td>\n",
       "      <td>State servant</td>\n",
       "      <td>Secondary / secondary special</td>\n",
       "      <td>Widow</td>\n",
       "      <td>House / apartment</td>\n",
       "      <td>-22303</td>\n",
       "      <td>-2390</td>\n",
       "      <td>1</td>\n",
       "      <td>0</td>\n",
       "      <td>0</td>\n",
       "      <td>0</td>\n",
       "      <td>Medicine staff</td>\n",
       "      <td>1.0</td>\n",
       "    </tr>\n",
       "    <tr>\n",
       "      <th>11</th>\n",
       "      <td>5346179</td>\n",
       "      <td>Female</td>\n",
       "      <td>0</td>\n",
       "      <td>1</td>\n",
       "      <td>1</td>\n",
       "      <td>193500.0</td>\n",
       "      <td>Working</td>\n",
       "      <td>Secondary / secondary special</td>\n",
       "      <td>Married</td>\n",
       "      <td>House / apartment</td>\n",
       "      <td>-9895</td>\n",
       "      <td>-1066</td>\n",
       "      <td>1</td>\n",
       "      <td>0</td>\n",
       "      <td>1</td>\n",
       "      <td>0</td>\n",
       "      <td>Laborers</td>\n",
       "      <td>3.0</td>\n",
       "    </tr>\n",
       "    <tr>\n",
       "      <th>14</th>\n",
       "      <td>5879182</td>\n",
       "      <td>Female</td>\n",
       "      <td>0</td>\n",
       "      <td>1</td>\n",
       "      <td>0</td>\n",
       "      <td>234000.0</td>\n",
       "      <td>Pensioner</td>\n",
       "      <td>Secondary / secondary special</td>\n",
       "      <td>Married</td>\n",
       "      <td>House / apartment</td>\n",
       "      <td>-21193</td>\n",
       "      <td>365243</td>\n",
       "      <td>1</td>\n",
       "      <td>0</td>\n",
       "      <td>1</td>\n",
       "      <td>0</td>\n",
       "      <td>NaN</td>\n",
       "      <td>2.0</td>\n",
       "    </tr>\n",
       "    <tr>\n",
       "      <th>...</th>\n",
       "      <td>...</td>\n",
       "      <td>...</td>\n",
       "      <td>...</td>\n",
       "      <td>...</td>\n",
       "      <td>...</td>\n",
       "      <td>...</td>\n",
       "      <td>...</td>\n",
       "      <td>...</td>\n",
       "      <td>...</td>\n",
       "      <td>...</td>\n",
       "      <td>...</td>\n",
       "      <td>...</td>\n",
       "      <td>...</td>\n",
       "      <td>...</td>\n",
       "      <td>...</td>\n",
       "      <td>...</td>\n",
       "      <td>...</td>\n",
       "      <td>...</td>\n",
       "    </tr>\n",
       "    <tr>\n",
       "      <th>131550</th>\n",
       "      <td>5890887</td>\n",
       "      <td>Female</td>\n",
       "      <td>0</td>\n",
       "      <td>0</td>\n",
       "      <td>1</td>\n",
       "      <td>99000.0</td>\n",
       "      <td>Working</td>\n",
       "      <td>Secondary / secondary special</td>\n",
       "      <td>Married</td>\n",
       "      <td>House / apartment</td>\n",
       "      <td>-14684</td>\n",
       "      <td>-1176</td>\n",
       "      <td>1</td>\n",
       "      <td>0</td>\n",
       "      <td>0</td>\n",
       "      <td>0</td>\n",
       "      <td>Cleaning staff</td>\n",
       "      <td>3.0</td>\n",
       "    </tr>\n",
       "    <tr>\n",
       "      <th>131553</th>\n",
       "      <td>5116166</td>\n",
       "      <td>Female</td>\n",
       "      <td>1</td>\n",
       "      <td>1</td>\n",
       "      <td>0</td>\n",
       "      <td>202500.0</td>\n",
       "      <td>Pensioner</td>\n",
       "      <td>Secondary / secondary special</td>\n",
       "      <td>Married</td>\n",
       "      <td>House / apartment</td>\n",
       "      <td>-23390</td>\n",
       "      <td>365243</td>\n",
       "      <td>1</td>\n",
       "      <td>0</td>\n",
       "      <td>0</td>\n",
       "      <td>0</td>\n",
       "      <td>NaN</td>\n",
       "      <td>2.0</td>\n",
       "    </tr>\n",
       "    <tr>\n",
       "      <th>131560</th>\n",
       "      <td>6551037</td>\n",
       "      <td>Male</td>\n",
       "      <td>1</td>\n",
       "      <td>1</td>\n",
       "      <td>0</td>\n",
       "      <td>270000.0</td>\n",
       "      <td>State servant</td>\n",
       "      <td>Secondary / secondary special</td>\n",
       "      <td>Married</td>\n",
       "      <td>House / apartment</td>\n",
       "      <td>-18955</td>\n",
       "      <td>-2000</td>\n",
       "      <td>1</td>\n",
       "      <td>0</td>\n",
       "      <td>0</td>\n",
       "      <td>0</td>\n",
       "      <td>Drivers</td>\n",
       "      <td>2.0</td>\n",
       "    </tr>\n",
       "    <tr>\n",
       "      <th>131562</th>\n",
       "      <td>6108756</td>\n",
       "      <td>Female</td>\n",
       "      <td>1</td>\n",
       "      <td>1</td>\n",
       "      <td>0</td>\n",
       "      <td>157500.0</td>\n",
       "      <td>Working</td>\n",
       "      <td>Higher education</td>\n",
       "      <td>Married</td>\n",
       "      <td>House / apartment</td>\n",
       "      <td>-10867</td>\n",
       "      <td>-2637</td>\n",
       "      <td>1</td>\n",
       "      <td>0</td>\n",
       "      <td>0</td>\n",
       "      <td>0</td>\n",
       "      <td>Managers</td>\n",
       "      <td>2.0</td>\n",
       "    </tr>\n",
       "    <tr>\n",
       "      <th>131563</th>\n",
       "      <td>5938512</td>\n",
       "      <td>Male</td>\n",
       "      <td>1</td>\n",
       "      <td>0</td>\n",
       "      <td>0</td>\n",
       "      <td>202500.0</td>\n",
       "      <td>Working</td>\n",
       "      <td>Secondary / secondary special</td>\n",
       "      <td>Married</td>\n",
       "      <td>House / apartment</td>\n",
       "      <td>-17815</td>\n",
       "      <td>-5109</td>\n",
       "      <td>1</td>\n",
       "      <td>0</td>\n",
       "      <td>0</td>\n",
       "      <td>0</td>\n",
       "      <td>NaN</td>\n",
       "      <td>2.0</td>\n",
       "    </tr>\n",
       "  </tbody>\n",
       "</table>\n",
       "<p>33799 rows × 18 columns</p>\n",
       "</div>"
      ],
      "text/plain": [
       "             id  gender  flag_own_car  flag_own_property  total_children  \\\n",
       "5       5541414  Female             0                  1               0   \n",
       "6       5471417  Female             0                  0               0   \n",
       "7       5928937  Female             0                  1               0   \n",
       "11      5346179  Female             0                  1               1   \n",
       "14      5879182  Female             0                  1               0   \n",
       "...         ...     ...           ...                ...             ...   \n",
       "131550  5890887  Female             0                  0               1   \n",
       "131553  5116166  Female             1                  1               0   \n",
       "131560  6551037    Male             1                  1               0   \n",
       "131562  6108756  Female             1                  1               0   \n",
       "131563  5938512    Male             1                  0               0   \n",
       "\n",
       "        amount_income_total    income_type                 education_type  \\\n",
       "5                  211500.0        Working  Secondary / secondary special   \n",
       "6                  112500.0  State servant  Secondary / secondary special   \n",
       "7                  126000.0  State servant  Secondary / secondary special   \n",
       "11                 193500.0        Working  Secondary / secondary special   \n",
       "14                 234000.0      Pensioner  Secondary / secondary special   \n",
       "...                     ...            ...                            ...   \n",
       "131550              99000.0        Working  Secondary / secondary special   \n",
       "131553             202500.0      Pensioner  Secondary / secondary special   \n",
       "131560             270000.0  State servant  Secondary / secondary special   \n",
       "131562             157500.0        Working               Higher education   \n",
       "131563             202500.0        Working  Secondary / secondary special   \n",
       "\n",
       "         family_status       housing_type  days_birth  days_employed  \\\n",
       "5       Civil marriage  House / apartment      -18171          -1671   \n",
       "6              Married  House / apartment      -11142          -2607   \n",
       "7                Widow  House / apartment      -22303          -2390   \n",
       "11             Married  House / apartment       -9895          -1066   \n",
       "14             Married  House / apartment      -21193         365243   \n",
       "...                ...                ...         ...            ...   \n",
       "131550         Married  House / apartment      -14684          -1176   \n",
       "131553         Married  House / apartment      -23390         365243   \n",
       "131560         Married  House / apartment      -18955          -2000   \n",
       "131562         Married  House / apartment      -10867          -2637   \n",
       "131563         Married  House / apartment      -17815          -5109   \n",
       "\n",
       "        flag_mobile_phone  flag_work_phone  flag_phone  flag_email  \\\n",
       "5                       1                0           1           1   \n",
       "6                       1                0           0           0   \n",
       "7                       1                0           0           0   \n",
       "11                      1                0           1           0   \n",
       "14                      1                0           1           0   \n",
       "...                   ...              ...         ...         ...   \n",
       "131550                  1                0           0           0   \n",
       "131553                  1                0           0           0   \n",
       "131560                  1                0           0           0   \n",
       "131562                  1                0           0           0   \n",
       "131563                  1                0           0           0   \n",
       "\n",
       "       occupation_type  total_family_members  \n",
       "5                  NaN                   2.0  \n",
       "6           Core staff                   2.0  \n",
       "7       Medicine staff                   1.0  \n",
       "11            Laborers                   3.0  \n",
       "14                 NaN                   2.0  \n",
       "...                ...                   ...  \n",
       "131550  Cleaning staff                   3.0  \n",
       "131553             NaN                   2.0  \n",
       "131560         Drivers                   2.0  \n",
       "131562        Managers                   2.0  \n",
       "131563             NaN                   2.0  \n",
       "\n",
       "[33799 rows x 18 columns]"
      ]
     },
     "execution_count": 36,
     "metadata": {},
     "output_type": "execute_result"
    }
   ],
   "source": [
    "dataframe_nomer_tiga[dataframe_nomer_tiga.duplicated(keep=False) == True]"
   ]
  },
  {
   "cell_type": "code",
   "execution_count": 37,
   "id": "59119b18",
   "metadata": {},
   "outputs": [
    {
     "data": {
      "text/plain": [
       "np.False_"
      ]
     },
     "execution_count": 37,
     "metadata": {},
     "output_type": "execute_result"
    }
   ],
   "source": [
    "dataframe_bersih = dataframe_nomer_tiga.drop_duplicates()\n",
    "dataframe_bersih.duplicated().any()"
   ]
  },
  {
   "cell_type": "code",
   "execution_count": 38,
   "id": "f93c5a47",
   "metadata": {},
   "outputs": [
    {
     "name": "stdout",
     "output_type": "stream",
     "text": [
      "(12235, 18)\n",
      "flag_email\n",
      "1    12235\n",
      "Name: count, dtype: int64\n"
     ]
    }
   ],
   "source": [
    "dataframe_email = dataframe_bersih[dataframe_bersih['flag_email'] == 1].copy()\n",
    "print(dataframe_email.shape)\n",
    "print(dataframe_email['flag_email'].value_counts())"
   ]
  },
  {
   "cell_type": "code",
   "execution_count": 39,
   "id": "78cb161a",
   "metadata": {},
   "outputs": [],
   "source": [
    "dataframe_email['has_car_and_property'] = ((dataframe_email['flag_own_car'] == 1) & (dataframe_email['flag_own_property'] == 1)).astype(int)\n"
   ]
  },
  {
   "cell_type": "code",
   "execution_count": 40,
   "id": "528416c8",
   "metadata": {},
   "outputs": [],
   "source": [
    "dataframe_email = dataframe_email[['id', 'gender', 'has_car_and_property', 'income_type','education_type', 'family_status', 'housing_type','occupation_type', 'amount_income_total']]"
   ]
  },
  {
   "cell_type": "code",
   "execution_count": 41,
   "id": "13d3a800",
   "metadata": {},
   "outputs": [],
   "source": [
    "dataframe_email = dataframe_email[(dataframe_email['has_car_and_property'] == 1) & (dataframe_email['occupation_type'].notnull()) & (dataframe_email['occupation_type'].str.contains('staff', case=False))]"
   ]
  },
  {
   "cell_type": "code",
   "execution_count": 42,
   "id": "c0f22829",
   "metadata": {},
   "outputs": [
    {
     "data": {
      "text/html": [
       "<div>\n",
       "<style scoped>\n",
       "    .dataframe tbody tr th:only-of-type {\n",
       "        vertical-align: middle;\n",
       "    }\n",
       "\n",
       "    .dataframe tbody tr th {\n",
       "        vertical-align: top;\n",
       "    }\n",
       "\n",
       "    .dataframe thead th {\n",
       "        text-align: right;\n",
       "    }\n",
       "</style>\n",
       "<table border=\"1\" class=\"dataframe\">\n",
       "  <thead>\n",
       "    <tr style=\"text-align: right;\">\n",
       "      <th></th>\n",
       "      <th>id</th>\n",
       "      <th>gender</th>\n",
       "      <th>has_car_and_property</th>\n",
       "      <th>income_type</th>\n",
       "      <th>education_type</th>\n",
       "      <th>family_status</th>\n",
       "      <th>housing_type</th>\n",
       "      <th>occupation_type</th>\n",
       "      <th>amount_income_total</th>\n",
       "    </tr>\n",
       "  </thead>\n",
       "  <tbody>\n",
       "    <tr>\n",
       "      <th>8</th>\n",
       "      <td>5169560</td>\n",
       "      <td>Female</td>\n",
       "      <td>1</td>\n",
       "      <td>Working</td>\n",
       "      <td>Secondary / secondary special</td>\n",
       "      <td>Married</td>\n",
       "      <td>House / apartment</td>\n",
       "      <td>Sales staff</td>\n",
       "      <td>90000.0</td>\n",
       "    </tr>\n",
       "    <tr>\n",
       "      <th>23</th>\n",
       "      <td>6297619</td>\n",
       "      <td>Male</td>\n",
       "      <td>1</td>\n",
       "      <td>Commercial associate</td>\n",
       "      <td>Higher education</td>\n",
       "      <td>Single / not married</td>\n",
       "      <td>Rented apartment</td>\n",
       "      <td>High skill tech staff</td>\n",
       "      <td>360000.0</td>\n",
       "    </tr>\n",
       "    <tr>\n",
       "      <th>169</th>\n",
       "      <td>5548993</td>\n",
       "      <td>Female</td>\n",
       "      <td>1</td>\n",
       "      <td>Commercial associate</td>\n",
       "      <td>Higher education</td>\n",
       "      <td>Married</td>\n",
       "      <td>House / apartment</td>\n",
       "      <td>Core staff</td>\n",
       "      <td>405000.0</td>\n",
       "    </tr>\n",
       "    <tr>\n",
       "      <th>276</th>\n",
       "      <td>5344333</td>\n",
       "      <td>Female</td>\n",
       "      <td>1</td>\n",
       "      <td>Working</td>\n",
       "      <td>Secondary / secondary special</td>\n",
       "      <td>Married</td>\n",
       "      <td>House / apartment</td>\n",
       "      <td>Medicine staff</td>\n",
       "      <td>135000.0</td>\n",
       "    </tr>\n",
       "    <tr>\n",
       "      <th>353</th>\n",
       "      <td>5499766</td>\n",
       "      <td>Female</td>\n",
       "      <td>1</td>\n",
       "      <td>Working</td>\n",
       "      <td>Secondary / secondary special</td>\n",
       "      <td>Civil marriage</td>\n",
       "      <td>House / apartment</td>\n",
       "      <td>Core staff</td>\n",
       "      <td>225000.0</td>\n",
       "    </tr>\n",
       "  </tbody>\n",
       "</table>\n",
       "</div>"
      ],
      "text/plain": [
       "          id  gender  has_car_and_property           income_type  \\\n",
       "8    5169560  Female                     1               Working   \n",
       "23   6297619    Male                     1  Commercial associate   \n",
       "169  5548993  Female                     1  Commercial associate   \n",
       "276  5344333  Female                     1               Working   \n",
       "353  5499766  Female                     1               Working   \n",
       "\n",
       "                    education_type         family_status       housing_type  \\\n",
       "8    Secondary / secondary special               Married  House / apartment   \n",
       "23                Higher education  Single / not married   Rented apartment   \n",
       "169               Higher education               Married  House / apartment   \n",
       "276  Secondary / secondary special               Married  House / apartment   \n",
       "353  Secondary / secondary special        Civil marriage  House / apartment   \n",
       "\n",
       "           occupation_type  amount_income_total  \n",
       "8              Sales staff              90000.0  \n",
       "23   High skill tech staff             360000.0  \n",
       "169             Core staff             405000.0  \n",
       "276         Medicine staff             135000.0  \n",
       "353             Core staff             225000.0  "
      ]
     },
     "execution_count": 42,
     "metadata": {},
     "output_type": "execute_result"
    }
   ],
   "source": [
    "dataframe_email.head(5)"
   ]
  },
  {
   "cell_type": "code",
   "execution_count": 43,
   "id": "80850a22",
   "metadata": {},
   "outputs": [],
   "source": [
    "dataframe_email = dataframe_email.sort_values(by=['income_type', 'amount_income_total'],ascending=[True, False])"
   ]
  },
  {
   "cell_type": "code",
   "execution_count": 44,
   "id": "f6617d76",
   "metadata": {},
   "outputs": [],
   "source": [
    "dataframe_email.to_csv('homework_3_result.csv', index=False)"
   ]
  },
  {
   "cell_type": "markdown",
   "id": "1d26b6c7-1e20-47a9-bf4e-6ed74b04a237",
   "metadata": {
    "tags": []
   },
   "source": [
    "# B.DataFrame Aggregation (25pts)"
   ]
  },
  {
   "cell_type": "markdown",
   "id": "2ba1cb33-978c-4c65-bcb6-bcec082c9217",
   "metadata": {
    "tags": []
   },
   "source": [
    "## Intermediate"
   ]
  },
  {
   "attachments": {
    "homework_exercise_4_result.png": {
     "image/png": "[encoded data removed]"
    }
   },
   "cell_type": "markdown",
   "id": "80f6c274-66bd-48fd-9cd7-6d2bc4d95a28",
   "metadata": {
    "tags": []
   },
   "source": [
    "### 4. Group By and Aggregate (10pts)\n",
    "\n",
    "Dengan menggunakan data `titanic.csv`, buatlah dataframe untuk melihat informasi `max` dan `min` pada column `Age` dan juga informasi `mean` dan `median` pada column `Fare` pada masing-masing PassengerClass atau `Pclass`.\n",
    "\n",
    "**Expected Result:**\n",
    "\n",
    "![homework_exercise_4_result.png](attachment:homework_exercise_4_result.png)"
   ]
  },
  {
   "cell_type": "code",
   "execution_count": 45,
   "id": "84c2aac9",
   "metadata": {},
   "outputs": [
    {
     "data": {
      "text/html": [
       "<div>\n",
       "<style scoped>\n",
       "    .dataframe tbody tr th:only-of-type {\n",
       "        vertical-align: middle;\n",
       "    }\n",
       "\n",
       "    .dataframe tbody tr th {\n",
       "        vertical-align: top;\n",
       "    }\n",
       "\n",
       "    .dataframe thead th {\n",
       "        text-align: right;\n",
       "    }\n",
       "</style>\n",
       "<table border=\"1\" class=\"dataframe\">\n",
       "  <thead>\n",
       "    <tr style=\"text-align: right;\">\n",
       "      <th></th>\n",
       "      <th>PassengerId</th>\n",
       "      <th>Survived</th>\n",
       "      <th>Pclass</th>\n",
       "      <th>Name</th>\n",
       "      <th>Sex</th>\n",
       "      <th>Age</th>\n",
       "      <th>SibSp</th>\n",
       "      <th>Parch</th>\n",
       "      <th>Ticket</th>\n",
       "      <th>Fare</th>\n",
       "      <th>Cabin</th>\n",
       "      <th>Embarked</th>\n",
       "    </tr>\n",
       "  </thead>\n",
       "  <tbody>\n",
       "    <tr>\n",
       "      <th>0</th>\n",
       "      <td>1</td>\n",
       "      <td>0</td>\n",
       "      <td>3</td>\n",
       "      <td>Braund, Mr. Owen Harris</td>\n",
       "      <td>male</td>\n",
       "      <td>22.0</td>\n",
       "      <td>1</td>\n",
       "      <td>0</td>\n",
       "      <td>A/5 21171</td>\n",
       "      <td>7.2500</td>\n",
       "      <td>NaN</td>\n",
       "      <td>S</td>\n",
       "    </tr>\n",
       "    <tr>\n",
       "      <th>1</th>\n",
       "      <td>2</td>\n",
       "      <td>1</td>\n",
       "      <td>1</td>\n",
       "      <td>Cumings, Mrs. John Bradley (Florence Briggs Th...</td>\n",
       "      <td>female</td>\n",
       "      <td>38.0</td>\n",
       "      <td>1</td>\n",
       "      <td>0</td>\n",
       "      <td>PC 17599</td>\n",
       "      <td>71.2833</td>\n",
       "      <td>C85</td>\n",
       "      <td>C</td>\n",
       "    </tr>\n",
       "    <tr>\n",
       "      <th>2</th>\n",
       "      <td>3</td>\n",
       "      <td>1</td>\n",
       "      <td>3</td>\n",
       "      <td>Heikkinen, Miss. Laina</td>\n",
       "      <td>female</td>\n",
       "      <td>26.0</td>\n",
       "      <td>0</td>\n",
       "      <td>0</td>\n",
       "      <td>STON/O2. 3101282</td>\n",
       "      <td>7.9250</td>\n",
       "      <td>NaN</td>\n",
       "      <td>S</td>\n",
       "    </tr>\n",
       "    <tr>\n",
       "      <th>3</th>\n",
       "      <td>4</td>\n",
       "      <td>1</td>\n",
       "      <td>1</td>\n",
       "      <td>Futrelle, Mrs. Jacques Heath (Lily May Peel)</td>\n",
       "      <td>female</td>\n",
       "      <td>35.0</td>\n",
       "      <td>1</td>\n",
       "      <td>0</td>\n",
       "      <td>113803</td>\n",
       "      <td>53.1000</td>\n",
       "      <td>C123</td>\n",
       "      <td>S</td>\n",
       "    </tr>\n",
       "    <tr>\n",
       "      <th>4</th>\n",
       "      <td>5</td>\n",
       "      <td>0</td>\n",
       "      <td>3</td>\n",
       "      <td>Allen, Mr. William Henry</td>\n",
       "      <td>male</td>\n",
       "      <td>35.0</td>\n",
       "      <td>0</td>\n",
       "      <td>0</td>\n",
       "      <td>373450</td>\n",
       "      <td>8.0500</td>\n",
       "      <td>NaN</td>\n",
       "      <td>S</td>\n",
       "    </tr>\n",
       "  </tbody>\n",
       "</table>\n",
       "</div>"
      ],
      "text/plain": [
       "   PassengerId  Survived  Pclass  \\\n",
       "0            1         0       3   \n",
       "1            2         1       1   \n",
       "2            3         1       3   \n",
       "3            4         1       1   \n",
       "4            5         0       3   \n",
       "\n",
       "                                                Name     Sex   Age  SibSp  \\\n",
       "0                            Braund, Mr. Owen Harris    male  22.0      1   \n",
       "1  Cumings, Mrs. John Bradley (Florence Briggs Th...  female  38.0      1   \n",
       "2                             Heikkinen, Miss. Laina  female  26.0      0   \n",
       "3       Futrelle, Mrs. Jacques Heath (Lily May Peel)  female  35.0      1   \n",
       "4                           Allen, Mr. William Henry    male  35.0      0   \n",
       "\n",
       "   Parch            Ticket     Fare Cabin Embarked  \n",
       "0      0         A/5 21171   7.2500   NaN        S  \n",
       "1      0          PC 17599  71.2833   C85        C  \n",
       "2      0  STON/O2. 3101282   7.9250   NaN        S  \n",
       "3      0            113803  53.1000  C123        S  \n",
       "4      0            373450   8.0500   NaN        S  "
      ]
     },
     "execution_count": 45,
     "metadata": {},
     "output_type": "execute_result"
    }
   ],
   "source": [
    "dataframe_titanic = pd.read_csv(r'D:\\rakamin_python\\Data_Processing\\Homework Data Processing\\titanic.csv')\n",
    "dataframe_titanic.head(5)"
   ]
  },
  {
   "cell_type": "code",
   "execution_count": 46,
   "id": "87c3bf6f-5460-433f-8820-8189f21d60fb",
   "metadata": {},
   "outputs": [
    {
     "name": "stdout",
     "output_type": "stream",
     "text": [
      "   Pclass  max_age  min_age  mean_fare  median_fare\n",
      "0       1     80.0     0.92  84.154687      60.2875\n",
      "1       2     70.0     0.67  20.662183      14.2500\n",
      "2       3     74.0     0.42  13.675550       8.0500\n"
     ]
    }
   ],
   "source": [
    "result_nomer_empat = dataframe_titanic.groupby('Pclass').agg(\n",
    "    max_age=('Age', 'max'),\n",
    "    min_age=('Age', 'min'),\n",
    "    mean_fare=('Fare', 'mean'),\n",
    "    median_fare=('Fare', 'median')\n",
    ").reset_index()\n",
    "\n",
    "\n",
    "print(result_nomer_empat)"
   ]
  },
  {
   "attachments": {
    "homework_exercise_5_result.png": {
     "image/png": "[encoded data removed]"
    }
   },
   "cell_type": "markdown",
   "id": "84dd9e90-c915-40a5-9c58-b3f8208f1477",
   "metadata": {
    "tags": []
   },
   "source": [
    "### 5. Memanfaatkan Pivot Tabel (15pts)\n",
    "\n",
    "Buatlah dataframe baru menggunakan fungsi pivot table untuk melihat `Embarked` apa saja yang `average_female_ticket_price` lebih besar daripada `average_male_ticket_price`. Informasi `average_female_ticket_price` dan `average_male_ticket_price` didapatkan dari rata-rata pada column `Fare`.\n",
    "\n",
    "**Hint:**\n",
    "1. menggunakan pivot table\n",
    "2. dapat dilihat pada topik `DataFrame Aggregation` bagian `Pivot Table | Reshape Columns and Rows`\n",
    "\n",
    "**Expected Result:**\n",
    "\n",
    "![homework_exercise_5_result.png](attachment:homework_exercise_5_result.png)"
   ]
  },
  {
   "cell_type": "code",
   "execution_count": 7,
   "id": "9795af38-7762-415a-a1e0-8ec6413195bd",
   "metadata": {},
   "outputs": [
    {
     "name": "stdout",
     "output_type": "stream",
     "text": [
      "  Embarked  avg_female_ticket_price  avg_male_ticket_price\n",
      "0        C                75.169805              48.262109\n",
      "2        S                38.740929              21.711996\n"
     ]
    }
   ],
   "source": [
    "dataframe_titanic = pd.read_csv(r'D:\\rakamin_python\\Data_Processing\\Homework Data Processing\\titanic.csv')\n",
    "\n",
    "pivot_table = dataframe_titanic.pivot_table(\n",
    "    values='Fare', \n",
    "    index='Embarked', \n",
    "    columns='Sex', \n",
    "    aggfunc='mean'\n",
    ").reset_index()\n",
    "\n",
    "pivot_table['female_greater_than_male'] = pivot_table['female'] > pivot_table['male']\n",
    "\n",
    "result = pivot_table[pivot_table['female_greater_than_male']][['Embarked', 'female', 'male']]\n",
    "result.columns = ['Embarked', 'avg_female_ticket_price', 'avg_male_ticket_price']\n",
    "\n",
    "print(result)\n"
   ]
  },
  {
   "cell_type": "markdown",
   "id": "b30fccf3-ffe8-44e2-b876-b1bf2b5dfdf9",
   "metadata": {
    "tags": []
   },
   "source": [
    "# C. DataFrame Combination (30pts)"
   ]
  },
  {
   "attachments": {
    "homework_exercise_6_new.png": {
     "image/png": "[encoded data removed]"
    },
    "homework_exercise_6_result.png": {
     "image/png": "[encoded data removed]"
    }
   },
   "cell_type": "markdown",
   "id": "1a71f163-7370-4de3-b8e1-f9b0cef705f8",
   "metadata": {
    "tags": []
   },
   "source": [
    "## 6. Melakukan Append pada DataFrame (5pts)\n",
    "\n",
    "Buatlah DataFrame seperti pada soal `no.1`. Kemudian tambahkan data tersebut dengan data users yang baru seperti gambar dibawah berikut.\n",
    "\n",
    "**New Users Data:**\n",
    "\n",
    "![homework_exercise_6_new.png](attachment:homework_exercise_6_new.png)\n",
    "\n",
    "**Expected Result:**\n",
    "\n",
    "![homework_exercise_6_result.png](attachment:homework_exercise_6_result.png)"
   ]
  },
  {
   "cell_type": "code",
   "execution_count": 48,
   "id": "d10a9626-79a1-4e61-a162-35446e082ae2",
   "metadata": {},
   "outputs": [
    {
     "name": "stdout",
     "output_type": "stream",
     "text": [
      "     name  age  phone_number  ielts_score\n",
      "0   fiqry   23  +62813123414          6.5\n",
      "1   iqbal   21   +6287842464          NaN\n",
      "2  monica   22  +62813125554          7.5\n",
      "3    rama   24   +6287834464          6.5\n",
      "4   johan   26  +62813113414          8.0\n",
      "5     ali   37          None          5.5\n",
      "6    adit   32     +62152155          6.0\n"
     ]
    }
   ],
   "source": [
    "dataframe_manual = pd.DataFrame({\n",
    "    'name': ['fiqry', 'iqbal', 'monica', 'rama', 'johan'],\n",
    "    'age': [23, 21, 22, 24, 26],\n",
    "    'phone_number': ['+62813123414', '+6287842464', '+62813125554', '+6287834464', '+62813113414'],\n",
    "    'ielts_score': [6.5, None, 7.5, 6.5, 8.0],\n",
    "})\n",
    "\n",
    "\n",
    "user_baru = pd.DataFrame({\n",
    "    'name': ['ali', 'adit'],\n",
    "    'age': [37, 32],\n",
    "    'phone_number': [None, '+62152155'],\n",
    "    'ielts_score': [5.5, 6.0],\n",
    "})\n",
    "\n",
    "dataframe_manual = pd.concat([dataframe_manual, user_baru], ignore_index=True)\n",
    "\n",
    "print(dataframe_manual)"
   ]
  },
  {
   "attachments": {
    "homework_exercise_7_result.png": {
     "image/png": "[encoded data removed]"
    }
   },
   "cell_type": "markdown",
   "id": "0b8eb6b5-c02b-4366-b27b-240b3f0ae571",
   "metadata": {},
   "source": [
    "### 7. Merge DataFrame (25pts)\n",
    "\n",
    "Buatlah 2 dataframe mengikuti petunjuk berikut:\n",
    "\n",
    "df_1 :  Filter dataset 01 telecom_revenue.csv dengan multiple kondisi (5pts)\n",
    "- MonthlyRevenue > 10 \n",
    "- Occupation terdiri dari Professional, Student, and Crafts\n",
    "\n",
    "df_2 :  Filter dataset 02 telecom_usage.csv dengan multiple kondisi (5pt)\n",
    "- nilai UnansweredCalls > BlockedCalls\n",
    "\n",
    "Jawablah pertanyaan berikut ini:\n",
    "1. Hitunglah total CustomerID dan rata-rata DroppedCalls untuk masing-masing occupation. (10 Points)\n",
    "2. Pada occupation apa, rata-rata DroppedCalls paling besar? (5 Points)\n",
    "\n",
    "**Expected Result:**\n",
    "\n",
    "![homework_exercise_7_result.png](attachment:homework_exercise_7_result.png)"
   ]
  },
  {
   "cell_type": "code",
   "execution_count": 49,
   "id": "b1ad3786-32e3-4a8e-a904-efba30414e88",
   "metadata": {},
   "outputs": [
    {
     "name": "stdout",
     "output_type": "stream",
     "text": [
      "             CustomerID DroppedCalls\n",
      "                nunique         mean\n",
      "Occupation                          \n",
      "Crafts               24     6.191667\n",
      "Professional        128     5.532813\n",
      "Student               5     8.220000\n"
     ]
    }
   ],
   "source": [
    "df_revenue = pd.read_csv(r'D:\\rakamin_python\\Data_Processing\\Homework Data Processing\\01 telecom_revenue.csv')\n",
    "df_usage = pd.read_csv(r'D:\\rakamin_python\\Data_Processing\\Homework Data Processing\\02 telecom_usage.csv')\n",
    "\n",
    "\n",
    "df_1 = df_revenue[\n",
    "    (df_revenue['MonthlyRevenue'] > 10) &\n",
    "    (df_revenue['Occupation'].isin(['Professional', 'Student', 'Crafts']))\n",
    "]\n",
    "\n",
    "\n",
    "df_2 = df_usage[\n",
    "    df_usage['UnansweredCalls'] > df_usage['BlockedCalls']\n",
    "]\n",
    "\n",
    "merged_df = pd.merge(df_1, df_2, on='CustomerID')\n",
    "\n",
    "result = merged_df.groupby('Occupation').agg({\n",
    "    'CustomerID': 'nunique',\n",
    "    'DroppedCalls': 'mean'\n",
    "})\n",
    "\n",
    "\n",
    "result.columns = pd.MultiIndex.from_tuples([\n",
    "    ('CustomerID', 'nunique'),\n",
    "    ('DroppedCalls', 'mean')\n",
    "])\n",
    "\n",
    "print(result)"
   ]
  },
  {
   "cell_type": "code",
   "execution_count": 50,
   "id": "712ddbaa",
   "metadata": {},
   "outputs": [
    {
     "name": "stdout",
     "output_type": "stream",
     "text": [
      "Occupation dengan rata-rata DroppedCalls paling besar:\n",
      "Student\n"
     ]
    }
   ],
   "source": [
    "print(\"Occupation dengan rata-rata DroppedCalls paling besar:\")\n",
    "print(result['DroppedCalls']['mean'].idxmax())\n"
   ]
  }
 ],
 "metadata": {
  "kernelspec": {
   "display_name": ".venv",
   "language": "python",
   "name": "python3"
  },
  "language_info": {
   "codemirror_mode": {
    "name": "ipython",
    "version": 3
   },
   "file_extension": ".py",
   "mimetype": "text/x-python",
   "name": "python",
   "nbconvert_exporter": "python",
   "pygments_lexer": "ipython3",
   "version": "3.9.12"
  }
 },
 "nbformat": 4,
 "nbformat_minor": 5
}
